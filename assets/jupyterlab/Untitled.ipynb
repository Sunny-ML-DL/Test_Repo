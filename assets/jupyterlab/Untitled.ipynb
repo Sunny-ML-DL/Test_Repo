{
 "cells": [
  {
   "cell_type": "code",
   "execution_count": 1,
   "id": "4c547e69-a0ba-47b7-b8b5-b473f9d5f420",
   "metadata": {
    "id": "13a2bb0a-26f6-4805-8cc4-645b7ecefbc3",
    "tags": []
   },
   "outputs": [],
   "source": [
    "import os"
   ]
  },
  {
   "cell_type": "code",
   "execution_count": null,
   "id": "fafbe749-a451-4752-8bf3-992318657b54",
   "metadata": {
    "id": "fafbe749-a451-4752-8bf3-992318657b54"
   },
   "outputs": [],
   "source": []
  }
 ],
 "metadata": {
  "kernelspec": {
   "display_name": "Python 3.10",
   "language": "python",
   "name": "python3"
  },
  "language_info": {
   "codemirror_mode": {
    "name": "ipython",
    "version": 3
   },
   "file_extension": ".py",
   "mimetype": "text/x-python",
   "name": "python",
   "nbconvert_exporter": "python",
   "pygments_lexer": "ipython3",
   "version": "3.10.6"
  }
 },
 "nbformat": 4,
 "nbformat_minor": 5
}
